{
  "nbformat": 4,
  "nbformat_minor": 0,
  "metadata": {
    "colab": {
      "name": "GRIP_task1.ipynb",
      "provenance": [],
      "authorship_tag": "ABX9TyOaNeSTTwm7kIcx4Vcox7Kl",
      "include_colab_link": true
    },
    "kernelspec": {
      "name": "python3",
      "display_name": "Python 3"
    }
  },
  "cells": [
    {
      "cell_type": "markdown",
      "metadata": {
        "id": "view-in-github",
        "colab_type": "text"
      },
      "source": [
        "<a href=\"https://colab.research.google.com/github/pranavteja/TSF_GRIP_Tasks/blob/main/GRIP_task1.ipynb\" target=\"_parent\"><img src=\"https://colab.research.google.com/assets/colab-badge.svg\" alt=\"Open In Colab\"/></a>"
      ]
    },
    {
      "cell_type": "markdown",
      "metadata": {
        "id": "74yz0Sf18YEP"
      },
      "source": [
        "PRANAV TEJA - DATA SCIENCE AND BUSINESS ANALYTICS |\n",
        "GRIP @ THE SPARKS FOUNDATION"
      ]
    },
    {
      "cell_type": "markdown",
      "metadata": {
        "id": "gQrSaeuK9QoT"
      },
      "source": [
        "TASK 1 - PREDICTION USING SUPERVISED ML\n"
      ]
    },
    {
      "cell_type": "markdown",
      "metadata": {
        "id": "mD3OZmc4fH-n"
      },
      "source": [
        "IMPORTING THE PREREQUISITE LIBRARIES"
      ]
    },
    {
      "cell_type": "code",
      "metadata": {
        "id": "yDJmnUon_XgO"
      },
      "source": [
        "import pandas as pd\n",
        "import numpy as np\n",
        "import matplotlib.pyplot as plt\n",
        "%matplotlib inline"
      ],
      "execution_count": 1,
      "outputs": []
    },
    {
      "cell_type": "markdown",
      "metadata": {
        "id": "bJEOz1iyfOHx"
      },
      "source": [
        "IMPORTING AND VIEWING THE DATA"
      ]
    },
    {
      "cell_type": "code",
      "metadata": {
        "id": "LiQd74vA_qjU",
        "outputId": "7daecc58-f4d4-43f6-f4a7-53e1d4b8aecf",
        "colab": {
          "base_uri": "https://localhost:8080/",
          "height": 376
        }
      },
      "source": [
        "url = \"http://bit.ly/w-data\"\n",
        "data = pd.read_csv(url)\n",
        "print(\"Data import successful\")\n",
        "\n",
        "data.head(10)"
      ],
      "execution_count": 3,
      "outputs": [
        {
          "output_type": "stream",
          "text": [
            "Data import successful\n"
          ],
          "name": "stdout"
        },
        {
          "output_type": "execute_result",
          "data": {
            "text/html": [
              "<div>\n",
              "<style scoped>\n",
              "    .dataframe tbody tr th:only-of-type {\n",
              "        vertical-align: middle;\n",
              "    }\n",
              "\n",
              "    .dataframe tbody tr th {\n",
              "        vertical-align: top;\n",
              "    }\n",
              "\n",
              "    .dataframe thead th {\n",
              "        text-align: right;\n",
              "    }\n",
              "</style>\n",
              "<table border=\"1\" class=\"dataframe\">\n",
              "  <thead>\n",
              "    <tr style=\"text-align: right;\">\n",
              "      <th></th>\n",
              "      <th>Hours</th>\n",
              "      <th>Scores</th>\n",
              "    </tr>\n",
              "  </thead>\n",
              "  <tbody>\n",
              "    <tr>\n",
              "      <th>0</th>\n",
              "      <td>2.5</td>\n",
              "      <td>21</td>\n",
              "    </tr>\n",
              "    <tr>\n",
              "      <th>1</th>\n",
              "      <td>5.1</td>\n",
              "      <td>47</td>\n",
              "    </tr>\n",
              "    <tr>\n",
              "      <th>2</th>\n",
              "      <td>3.2</td>\n",
              "      <td>27</td>\n",
              "    </tr>\n",
              "    <tr>\n",
              "      <th>3</th>\n",
              "      <td>8.5</td>\n",
              "      <td>75</td>\n",
              "    </tr>\n",
              "    <tr>\n",
              "      <th>4</th>\n",
              "      <td>3.5</td>\n",
              "      <td>30</td>\n",
              "    </tr>\n",
              "    <tr>\n",
              "      <th>5</th>\n",
              "      <td>1.5</td>\n",
              "      <td>20</td>\n",
              "    </tr>\n",
              "    <tr>\n",
              "      <th>6</th>\n",
              "      <td>9.2</td>\n",
              "      <td>88</td>\n",
              "    </tr>\n",
              "    <tr>\n",
              "      <th>7</th>\n",
              "      <td>5.5</td>\n",
              "      <td>60</td>\n",
              "    </tr>\n",
              "    <tr>\n",
              "      <th>8</th>\n",
              "      <td>8.3</td>\n",
              "      <td>81</td>\n",
              "    </tr>\n",
              "    <tr>\n",
              "      <th>9</th>\n",
              "      <td>2.7</td>\n",
              "      <td>25</td>\n",
              "    </tr>\n",
              "  </tbody>\n",
              "</table>\n",
              "</div>"
            ],
            "text/plain": [
              "   Hours  Scores\n",
              "0    2.5      21\n",
              "1    5.1      47\n",
              "2    3.2      27\n",
              "3    8.5      75\n",
              "4    3.5      30\n",
              "5    1.5      20\n",
              "6    9.2      88\n",
              "7    5.5      60\n",
              "8    8.3      81\n",
              "9    2.7      25"
            ]
          },
          "metadata": {
            "tags": []
          },
          "execution_count": 3
        }
      ]
    },
    {
      "cell_type": "markdown",
      "metadata": {
        "id": "PlNvQ06LAI-9"
      },
      "source": [
        "PLOTTING THE DISTRIBUTION OF DATA"
      ]
    },
    {
      "cell_type": "code",
      "metadata": {
        "id": "-enVn-gMAMA-",
        "outputId": "c9775a72-c7e3-4acb-e6cc-f1ecab6b5e9d",
        "colab": {
          "base_uri": "https://localhost:8080/",
          "height": 295
        }
      },
      "source": [
        "data.plot(x ='Hours',y='Scores',style = 'x')\n",
        "plt.title('Percentage scored vs Hours studied')\n",
        "plt.xlabel('Hours Studied')\n",
        "plt.ylabel('Percentage Scored')\n",
        "plt.show()"
      ],
      "execution_count": 26,
      "outputs": [
        {
          "output_type": "display_data",
          "data": {
            "image/png": "[encoded data removed]",
            "text/plain": [
              "<Figure size 432x288 with 1 Axes>"
            ]
          },
          "metadata": {
            "tags": [],
            "needs_background": "light"
          }
        }
      ]
    },
    {
      "cell_type": "markdown",
      "metadata": {
        "id": "DQvPzrl6BHFo"
      },
      "source": [
        "After looking at the graph above, we can clearly see that there is a linear relation between the hours studied and the percentage scored. Hence, linear regression would be a good choice to make our predictions."
      ]
    },
    {
      "cell_type": "markdown",
      "metadata": {
        "id": "8qtW1z2MBY4s"
      },
      "source": [
        "PREPARING AND SPLITTING THE DATA INTO THE 80-20 TRAIN-TEST SPLIT "
      ]
    },
    {
      "cell_type": "code",
      "metadata": {
        "id": "tfq20MQrBcHX"
      },
      "source": [
        "from sklearn.model_selection import train_test_split \n",
        "from sklearn.linear_model import LinearRegression"
      ],
      "execution_count": 27,
      "outputs": []
    },
    {
      "cell_type": "code",
      "metadata": {
        "id": "_Y6AYOtBBjkt"
      },
      "source": [
        "X=data.iloc[:, :1].values\n",
        "Y=data.iloc[:,1].values"
      ],
      "execution_count": 28,
      "outputs": []
    },
    {
      "cell_type": "code",
      "metadata": {
        "id": "wXvq5lclB4dd",
        "outputId": "dc2b1fcb-2f81-4a22-c247-bfc8f736f9b2",
        "colab": {
          "base_uri": "https://localhost:8080/"
        }
      },
      "source": [
        "X_train, X_test, Y_train, Y_test = train_test_split(X, Y,test_size=0.2, random_state=0) \n",
        "print(X_test)"
      ],
      "execution_count": 29,
      "outputs": [
        {
          "output_type": "stream",
          "text": [
            "[[1.5]\n",
            " [3.2]\n",
            " [7.4]\n",
            " [2.5]\n",
            " [5.9]]\n"
          ],
          "name": "stdout"
        }
      ]
    },
    {
      "cell_type": "code",
      "metadata": {
        "id": "DGYBFHIeCEXH",
        "outputId": "b4adb894-25db-4a79-b166-41ae817d04db",
        "colab": {
          "base_uri": "https://localhost:8080/"
        }
      },
      "source": [
        "regressor=LinearRegression()\n",
        "regressor.fit(X_train,Y_train)"
      ],
      "execution_count": 30,
      "outputs": [
        {
          "output_type": "execute_result",
          "data": {
            "text/plain": [
              "LinearRegression(copy_X=True, fit_intercept=True, n_jobs=None, normalize=False)"
            ]
          },
          "metadata": {
            "tags": []
          },
          "execution_count": 30
        }
      ]
    },
    {
      "cell_type": "code",
      "metadata": {
        "id": "YM7VSfxRCXRi",
        "outputId": "b8819146-8d36-4081-ebfb-8cff8cac9992",
        "colab": {
          "base_uri": "https://localhost:8080/"
        }
      },
      "source": [
        "y_predict = regressor.predict(X_test)\n",
        "print(y_predict)"
      ],
      "execution_count": 31,
      "outputs": [
        {
          "output_type": "stream",
          "text": [
            "[16.88414476 33.73226078 75.357018   26.79480124 60.49103328]\n"
          ],
          "name": "stdout"
        }
      ]
    },
    {
      "cell_type": "code",
      "metadata": {
        "id": "x0wm_AeKCteZ",
        "outputId": "c9aa12a3-d7f8-4612-fcaa-728c7ae0b466",
        "colab": {
          "base_uri": "https://localhost:8080/",
          "height": 204
        }
      },
      "source": [
        "newdf = pd.DataFrame(Y_test,y_predict)\n",
        "newdf.head(10)"
      ],
      "execution_count": 32,
      "outputs": [
        {
          "output_type": "execute_result",
          "data": {
            "text/html": [
              "<div>\n",
              "<style scoped>\n",
              "    .dataframe tbody tr th:only-of-type {\n",
              "        vertical-align: middle;\n",
              "    }\n",
              "\n",
              "    .dataframe tbody tr th {\n",
              "        vertical-align: top;\n",
              "    }\n",
              "\n",
              "    .dataframe thead th {\n",
              "        text-align: right;\n",
              "    }\n",
              "</style>\n",
              "<table border=\"1\" class=\"dataframe\">\n",
              "  <thead>\n",
              "    <tr style=\"text-align: right;\">\n",
              "      <th></th>\n",
              "      <th>0</th>\n",
              "    </tr>\n",
              "  </thead>\n",
              "  <tbody>\n",
              "    <tr>\n",
              "      <th>16.884145</th>\n",
              "      <td>20</td>\n",
              "    </tr>\n",
              "    <tr>\n",
              "      <th>33.732261</th>\n",
              "      <td>27</td>\n",
              "    </tr>\n",
              "    <tr>\n",
              "      <th>75.357018</th>\n",
              "      <td>69</td>\n",
              "    </tr>\n",
              "    <tr>\n",
              "      <th>26.794801</th>\n",
              "      <td>30</td>\n",
              "    </tr>\n",
              "    <tr>\n",
              "      <th>60.491033</th>\n",
              "      <td>62</td>\n",
              "    </tr>\n",
              "  </tbody>\n",
              "</table>\n",
              "</div>"
            ],
            "text/plain": [
              "            0\n",
              "16.884145  20\n",
              "33.732261  27\n",
              "75.357018  69\n",
              "26.794801  30\n",
              "60.491033  62"
            ]
          },
          "metadata": {
            "tags": []
          },
          "execution_count": 32
        }
      ]
    },
    {
      "cell_type": "markdown",
      "metadata": {
        "id": "QZZ-p1wYde9C"
      },
      "source": [
        "VISUALIZING THE PREDICTIONS AGAINST THE GIVEN DATA"
      ]
    },
    {
      "cell_type": "code",
      "metadata": {
        "id": "ZMDwZJ7OSCq4",
        "outputId": "dc210d1a-2ac7-4c92-d0f4-8f266c569766",
        "colab": {
          "base_uri": "https://localhost:8080/",
          "height": 279
        }
      },
      "source": [
        "plt.scatter(X,Y)\n",
        "plt.plot(X_test,y_predict,color = 'red')\n",
        "plt.xlabel('Hours')\n",
        "plt.ylabel('% scored')\n",
        "plt.show()"
      ],
      "execution_count": 41,
      "outputs": [
        {
          "output_type": "display_data",
          "data": {
            "image/png": "[encoded data removed]",
            "text/plain": [
              "<Figure size 432x288 with 1 Axes>"
            ]
          },
          "metadata": {
            "tags": [],
            "needs_background": "light"
          }
        }
      ]
    },
    {
      "cell_type": "markdown",
      "metadata": {
        "id": "OfCK02vddssd"
      },
      "source": [
        "PREDICTING THE % SCORE FOR 9.25 HOURS"
      ]
    },
    {
      "cell_type": "code",
      "metadata": {
        "id": "3gzYxtvud0T9",
        "outputId": "679a20c5-747e-4a3a-e447-163e714b08ca",
        "colab": {
          "base_uri": "https://localhost:8080/"
        }
      },
      "source": [
        "pred = regressor.predict([[9.25]])\n",
        "print(\"The predicted score is\",pred)"
      ],
      "execution_count": 48,
      "outputs": [
        {
          "output_type": "stream",
          "text": [
            "The predicted score is [93.69173249]\n"
          ],
          "name": "stdout"
        }
      ]
    },
    {
      "cell_type": "markdown",
      "metadata": {
        "id": "-_on1P9heJ2P"
      },
      "source": [
        "UNDERSTANDING THE ACCURACY OF OUR PREDICTION"
      ]
    },
    {
      "cell_type": "code",
      "metadata": {
        "id": "j0LBQy9EeM93",
        "outputId": "d91f2f51-7f4d-4957-ab1b-e0df13db4cae",
        "colab": {
          "base_uri": "https://localhost:8080/"
        }
      },
      "source": [
        "from sklearn import metrics\n",
        "from sklearn.metrics import r2_score\n",
        "print(\"Mean squared error:\",metrics.mean_absolute_error(Y_test,y_predict))\n",
        "R2=metrics.r2_score(Y_test,y_predict)\n",
        "print(R2)\n",
        "accuracy=R2*100;\n",
        "print(\"Accuracy of the model is\",accuracy)"
      ],
      "execution_count": 44,
      "outputs": [
        {
          "output_type": "stream",
          "text": [
            "Mean squared error: 4.183859899002982\n",
            "0.9454906892105354\n",
            "Accuracy of the model is 94.54906892105353\n"
          ],
          "name": "stdout"
        }
      ]
    }
  ]
}